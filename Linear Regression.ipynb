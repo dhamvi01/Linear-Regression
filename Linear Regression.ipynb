{
  "nbformat": 4,
  "nbformat_minor": 0,
  "metadata": {
    "kernelspec": {
      "display_name": "Python 3",
      "language": "python",
      "name": "python3"
    },
    "language_info": {
      "codemirror_mode": {
        "name": "ipython",
        "version": 3
      },
      "file_extension": ".py",
      "mimetype": "text/x-python",
      "name": "python",
      "nbconvert_exporter": "python",
      "pygments_lexer": "ipython3",
      "version": "3.7.3"
    },
    "colab": {
      "name": "Linear Regression.ipynb",
      "provenance": []
    }
  },
  "cells": [
    {
      "cell_type": "markdown",
      "metadata": {
        "id": "NUAq6QWwYIf7",
        "colab_type": "text"
      },
      "source": [
        "# 1. Import libraries and data"
      ]
    },
    {
      "cell_type": "code",
      "metadata": {
        "id": "KJUl44sNYIgA",
        "colab_type": "code",
        "colab": {}
      },
      "source": [
        "from sklearn.datasets import make_regression\n",
        "from matplotlib import pyplot as plt\n",
        "from sklearn.linear_model import LinearRegression\n",
        "import seaborn as sns"
      ],
      "execution_count": null,
      "outputs": []
    },
    {
      "cell_type": "code",
      "metadata": {
        "id": "ndtlrw_MYIgK",
        "colab_type": "code",
        "colab": {}
      },
      "source": [
        "x, y = make_regression(n_samples=50, n_features=1, n_informative=1, n_targets=1, noise=5)"
      ],
      "execution_count": null,
      "outputs": []
    },
    {
      "cell_type": "markdown",
      "metadata": {
        "id": "b1XUETjhYIgQ",
        "colab_type": "text"
      },
      "source": [
        "# 2. Build model and predict"
      ]
    },
    {
      "cell_type": "code",
      "metadata": {
        "id": "6kZrpKcGYIgS",
        "colab_type": "code",
        "colab": {},
        "outputId": "0025881b-66be-4f1d-ef43-7c4800b3a881"
      },
      "source": [
        "lr = LinearRegression()\n",
        "lr.fit(x,y)"
      ],
      "execution_count": null,
      "outputs": [
        {
          "output_type": "execute_result",
          "data": {
            "text/plain": [
              "LinearRegression(copy_X=True, fit_intercept=True, n_jobs=None, normalize=False)"
            ]
          },
          "metadata": {
            "tags": []
          },
          "execution_count": 3
        }
      ]
    },
    {
      "cell_type": "code",
      "metadata": {
        "id": "3BQtYOQ8YIga",
        "colab_type": "code",
        "colab": {}
      },
      "source": [
        "pred = lr.predict(x)"
      ],
      "execution_count": null,
      "outputs": []
    },
    {
      "cell_type": "markdown",
      "metadata": {
        "id": "vUcdNbANYIgi",
        "colab_type": "text"
      },
      "source": [
        "# 3. Reg Plot"
      ]
    },
    {
      "cell_type": "code",
      "metadata": {
        "id": "vPTbpJHfYIgj",
        "colab_type": "code",
        "colab": {},
        "outputId": "56d66bc0-7f5b-4de1-96f0-c4680d46cddc"
      },
      "source": [
        "plt.scatter(x,y)\n",
        "plt.plot(x,pred,c='red')"
      ],
      "execution_count": null,
      "outputs": [
        {
          "output_type": "execute_result",
          "data": {
            "text/plain": [
              "[<matplotlib.lines.Line2D at 0xa73b770>]"
            ]
          },
          "metadata": {
            "tags": []
          },
          "execution_count": 5
        },
        {
          "output_type": "display_data",
          "data": {
            "image/png": "[encoded data removed]",
            "text/plain": [
              "<Figure size 432x288 with 1 Axes>"
            ]
          },
          "metadata": {
            "tags": [],
            "needs_background": "light"
          }
        }
      ]
    },
    {
      "cell_type": "markdown",
      "metadata": {
        "id": "oVUJgEzgYIgq",
        "colab_type": "text"
      },
      "source": [
        "# 4. Model Diagnostic"
      ]
    },
    {
      "cell_type": "code",
      "metadata": {
        "id": "aA-gySoNYIgr",
        "colab_type": "code",
        "colab": {},
        "outputId": "e55f55b4-f95e-4e79-bb28-9e8395f77ebb"
      },
      "source": [
        "from sklearn.metrics import mean_squared_error\n",
        "mean_squared_error(y,pred)"
      ],
      "execution_count": null,
      "outputs": [
        {
          "output_type": "execute_result",
          "data": {
            "text/plain": [
              "24.044571556504323"
            ]
          },
          "metadata": {
            "tags": []
          },
          "execution_count": 6
        }
      ]
    },
    {
      "cell_type": "code",
      "metadata": {
        "id": "3ufjnUtvYIgy",
        "colab_type": "code",
        "colab": {}
      },
      "source": [
        ""
      ],
      "execution_count": null,
      "outputs": []
    }
  ]
}